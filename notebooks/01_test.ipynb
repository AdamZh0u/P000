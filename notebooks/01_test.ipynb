{
 "cells": [
  {
   "cell_type": "code",
   "execution_count": 1,
   "metadata": {},
   "outputs": [
    {
     "name": "stderr",
     "output_type": "stream",
     "text": [
      "\u001b[32m2024-02-22 17:07:27.219\u001b[0m | \u001b[1mINFO    \u001b[0m | \u001b[36msrc.const\u001b[0m:\u001b[36mget_project_root\u001b[0m:\u001b[36m20\u001b[0m - \u001b[1mPROJECT_ROOT set to /Users/adamzh0u/260_Physics/P001\u001b[0m\n"
     ]
    },
    {
     "data": {
      "text/plain": [
       "PosixPath('/Users/adamzh0u/260_Physics/P001')"
      ]
     },
     "execution_count": 1,
     "metadata": {},
     "output_type": "execute_result"
    }
   ],
   "source": [
    "%load_ext autoreload\n",
    "%autoreload 2\n",
    "\n",
    "import pandas as pd\n",
    "import numpy as np\n",
    "\n",
    "from src import const\n",
    "from pathlib import Path\n",
    "Path.cwd()"
   ]
  },
  {
   "cell_type": "code",
   "execution_count": null,
   "metadata": {},
   "outputs": [],
   "source": [
    "#rename files in /Users/adamzh0u/260_Physics/P001/8.044-spring-2013/static_resources/0c273c87d36ef2b95f5eb65d7067215b_MIT8_044S13_L22.pdf\n",
    "#to MIT8_044S13_L22.pdf\n",
    "\n",
    "import glob\n",
    "\n",
    "folder = \"/Users/adamzh0u/260_Physics/P001/8.044-spring-2013/static_resources/\"\n",
    "for file in glob.glob(folder + \"*.pdf\"):\n",
    "    print(file)\n",
    "    new_file = folder + file.split(\"/\")[-1].split(\"_\")[-2][3:] + \"_\" + file.split(\"/\")[-1].split(\"_\")[-1]\n",
    "    print(new_file)\n",
    "    Path(file).rename(new_file)"
   ]
  }
 ],
 "metadata": {
  "kernelspec": {
   "display_name": "py10",
   "language": "python",
   "name": "python3"
  },
  "language_info": {
   "codemirror_mode": {
    "name": "ipython",
    "version": 3
   },
   "file_extension": ".py",
   "mimetype": "text/x-python",
   "name": "python",
   "nbconvert_exporter": "python",
   "pygments_lexer": "ipython3",
   "version": "3.9.18"
  },
  "orig_nbformat": 4,
  "vscode": {
   "interpreter": {
    "hash": "3018e8824340e106625923d9da10977e94c378a6185dd4456db306b0f6027436"
   }
  }
 },
 "nbformat": 4,
 "nbformat_minor": 2
}
