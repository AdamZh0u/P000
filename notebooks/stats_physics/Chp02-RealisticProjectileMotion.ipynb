{
 "cells": [
  {
   "cell_type": "markdown",
   "metadata": {},
   "source": [
    "## BICYCLE RACING: THE EFFECT OF AIR RESISTANCE"
   ]
  },
  {
   "cell_type": "code",
   "execution_count": 1,
   "metadata": {},
   "outputs": [
    {
     "data": {
      "text/plain": [
       "{'mm_to_inch': 3.937007874015748,\n",
       " 'one_col_mm': 89,\n",
       " 'two_col_mm': 183,\n",
       " 'height_mm': 89,\n",
       " 'alpha': 0.6,\n",
       " 'to_rgba': <function matplotlib.colors.to_rgba(c, alpha=None)>,\n",
       " 'save_pdf': <function src.utils.plot_utils.setup_mpl.<locals>.save_pdf(path, fig)>,\n",
       " 'save_svg': <function src.utils.plot_utils.setup_mpl.<locals>.save_svg(path, fig)>,\n",
       " 'save_png': <function src.utils.plot_utils.setup_mpl.<locals>.save_png(path, fig)>}"
      ]
     },
     "execution_count": 1,
     "metadata": {},
     "output_type": "execute_result"
    }
   ],
   "source": [
    "import numpy as np\n",
    "import matplotlib.pyplot as plt\n",
    "from src.utils.plot_utils import setup_mpl\n",
    "\n",
    "setup_mpl(as_default=0)"
   ]
  },
  {
   "cell_type": "code",
   "execution_count": 2,
   "metadata": {},
   "outputs": [],
   "source": [
    "# euler method\n",
    "def calculate(v, t, dt, P, m, n):\n",
    "    for i in range(n-1):\n",
    "        v[i+1] = v[i] + P*dt/(m*v[i])\n",
    "        t[i+1] = t[i] + dt\n",
    "    return v, t\n",
    "\n",
    "\n",
    "def main(n=100, v0=4, dt=0.01, P=400, m=70):\n",
    "    v = np.zeros(n)\n",
    "    t = np.zeros(n)\n",
    "    v[0] = v0  # initial velocity\n",
    "    v, t = calculate(v, t, dt, P, m, n)\n",
    "    return v, t\n",
    "\n",
    "\n",
    "ls_dt = [main(n=100, dt=0.2),\n",
    "         main(n=100, dt=0.1),\n",
    "         main(n=100, dt=0.5)]\n",
    "label_dt = ['dt=0.05', 'dt=0.1', 'dt=0.5']\n",
    "\n",
    "# ls_tau = [\n",
    "#     main(n=100, dt=0.1, tau=0.5),\n",
    "#     main(n=100, dt=0.1, tau=1),\n",
    "#     main(n=100, dt=0.1, tau=2)]\n",
    "# label_tau = ['tau=0.5', 'tau=1', 'tau=2']"
   ]
  },
  {
   "cell_type": "code",
   "execution_count": 3,
   "metadata": {},
   "outputs": [
    {
     "data": {
      "image/png": "[encoded data removed]",
      "text/plain": [
       "<Figure size 720.472x350 with 2 Axes>"
      ]
     },
     "metadata": {},
     "output_type": "display_data"
    }
   ],
   "source": [
    "fig,ax = plt.subplots(1,2,figsize=(3.60236*2,3.5),dpi=100)\n",
    "cmap = plt.get_cmap(\"tab10\")\n",
    "\n",
    "for i in range(3):\n",
    "    ax[0].scatter(ls_dt[i][1],ls_dt[i][0],marker='.',color=cmap(i),label=label_dt[i])\n",
    "    # ax[0].plot(ls_funcdt[i][1],ls_funcdt[i][0],marker='',color=cmap(i),label='func '+label_dt[i])\n",
    "    # ax[1].scatter(ls_tau[i][1],ls_tau[i][0],marker='.',color=cmap(i),label=label_tau[i])\n",
    "    # ax[1].plot(ls_functau[i][1],ls_functau[i][0],marker='',color=cmap(i),label='func '+label_tau[i])\n"
   ]
  }
 ],
 "metadata": {
  "kernelspec": {
   "display_name": "Python 3",
   "language": "python",
   "name": "python3"
  },
  "language_info": {
   "codemirror_mode": {
    "name": "ipython",
    "version": 3
   },
   "file_extension": ".py",
   "mimetype": "text/x-python",
   "name": "python",
   "nbconvert_exporter": "python",
   "pygments_lexer": "ipython3",
   "version": "3.9.18"
  }
 },
 "nbformat": 4,
 "nbformat_minor": 2
}
